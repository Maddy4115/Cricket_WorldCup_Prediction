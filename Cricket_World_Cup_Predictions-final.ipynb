{
 "cells": [
  {
   "cell_type": "code",
   "execution_count": 134,
   "metadata": {},
   "outputs": [],
   "source": [
    "import numpy as np \n",
    "import pandas as pd\n",
    "import datetime\n",
    "import matplotlib.pyplot as plt"
   ]
  },
  {
   "cell_type": "code",
   "execution_count": 135,
   "metadata": {},
   "outputs": [],
   "source": [
    "#df = pd.read_csv('ODI_Data_Final.csv')\n",
    "df = pd.read_csv('ODI_Data_Final1.csv')"
   ]
  },
  {
   "cell_type": "code",
   "execution_count": 136,
   "metadata": {},
   "outputs": [
    {
     "data": {
      "text/html": [
       "<div>\n",
       "<style scoped>\n",
       "    .dataframe tbody tr th:only-of-type {\n",
       "        vertical-align: middle;\n",
       "    }\n",
       "\n",
       "    .dataframe tbody tr th {\n",
       "        vertical-align: top;\n",
       "    }\n",
       "\n",
       "    .dataframe thead th {\n",
       "        text-align: right;\n",
       "    }\n",
       "</style>\n",
       "<table border=\"1\" class=\"dataframe\">\n",
       "  <thead>\n",
       "    <tr style=\"text-align: right;\">\n",
       "      <th></th>\n",
       "      <th>Match_ID</th>\n",
       "      <th>Start Date</th>\n",
       "      <th>Country</th>\n",
       "      <th>Country_ID</th>\n",
       "      <th>Opposition</th>\n",
       "      <th>Ground</th>\n",
       "      <th>Toss</th>\n",
       "      <th>Score</th>\n",
       "      <th>Wickets</th>\n",
       "      <th>Overs</th>\n",
       "      <th>RPO</th>\n",
       "      <th>Target</th>\n",
       "      <th>Inns</th>\n",
       "      <th>Margin</th>\n",
       "      <th>Result</th>\n",
       "    </tr>\n",
       "  </thead>\n",
       "  <tbody>\n",
       "    <tr>\n",
       "      <th>0</th>\n",
       "      <td>ODI # 3315</td>\n",
       "      <td>03-Jan-13</td>\n",
       "      <td>Pakistan</td>\n",
       "      <td>7</td>\n",
       "      <td>India</td>\n",
       "      <td>Kolkata</td>\n",
       "      <td>lost</td>\n",
       "      <td>250</td>\n",
       "      <td>10</td>\n",
       "      <td>48.3</td>\n",
       "      <td>5.15</td>\n",
       "      <td>NaN</td>\n",
       "      <td>1</td>\n",
       "      <td>85 runs</td>\n",
       "      <td>won</td>\n",
       "    </tr>\n",
       "    <tr>\n",
       "      <th>1</th>\n",
       "      <td>ODI # 3315</td>\n",
       "      <td>03-Jan-13</td>\n",
       "      <td>India</td>\n",
       "      <td>6</td>\n",
       "      <td>Pakistan</td>\n",
       "      <td>Kolkata</td>\n",
       "      <td>won</td>\n",
       "      <td>165</td>\n",
       "      <td>10</td>\n",
       "      <td>48.0</td>\n",
       "      <td>3.43</td>\n",
       "      <td>251.0</td>\n",
       "      <td>2</td>\n",
       "      <td>85 runs</td>\n",
       "      <td>lost</td>\n",
       "    </tr>\n",
       "    <tr>\n",
       "      <th>2</th>\n",
       "      <td>ODI # 3316</td>\n",
       "      <td>06-Jan-13</td>\n",
       "      <td>Pakistan</td>\n",
       "      <td>7</td>\n",
       "      <td>India</td>\n",
       "      <td>Delhi</td>\n",
       "      <td>lost</td>\n",
       "      <td>157</td>\n",
       "      <td>10</td>\n",
       "      <td>48.5</td>\n",
       "      <td>3.21</td>\n",
       "      <td>168.0</td>\n",
       "      <td>2</td>\n",
       "      <td>10 runs</td>\n",
       "      <td>lost</td>\n",
       "    </tr>\n",
       "    <tr>\n",
       "      <th>3</th>\n",
       "      <td>ODI # 3316</td>\n",
       "      <td>06-Jan-13</td>\n",
       "      <td>India</td>\n",
       "      <td>6</td>\n",
       "      <td>Pakistan</td>\n",
       "      <td>Delhi</td>\n",
       "      <td>won</td>\n",
       "      <td>167</td>\n",
       "      <td>10</td>\n",
       "      <td>43.4</td>\n",
       "      <td>3.82</td>\n",
       "      <td>NaN</td>\n",
       "      <td>1</td>\n",
       "      <td>10 runs</td>\n",
       "      <td>won</td>\n",
       "    </tr>\n",
       "    <tr>\n",
       "      <th>4</th>\n",
       "      <td>ODI # 3317</td>\n",
       "      <td>11-Jan-13</td>\n",
       "      <td>SriLanka</td>\n",
       "      <td>8</td>\n",
       "      <td>Australia</td>\n",
       "      <td>Melbourne</td>\n",
       "      <td>lost</td>\n",
       "      <td>198</td>\n",
       "      <td>10</td>\n",
       "      <td>40.0</td>\n",
       "      <td>4.95</td>\n",
       "      <td>306.0</td>\n",
       "      <td>2</td>\n",
       "      <td>107 runs</td>\n",
       "      <td>lost</td>\n",
       "    </tr>\n",
       "  </tbody>\n",
       "</table>\n",
       "</div>"
      ],
      "text/plain": [
       "     Match_ID Start Date   Country  Country_ID Opposition     Ground  Toss  \\\n",
       "0  ODI # 3315  03-Jan-13  Pakistan           7      India    Kolkata  lost   \n",
       "1  ODI # 3315  03-Jan-13     India           6   Pakistan    Kolkata   won   \n",
       "2  ODI # 3316  06-Jan-13  Pakistan           7      India      Delhi  lost   \n",
       "3  ODI # 3316  06-Jan-13     India           6   Pakistan      Delhi   won   \n",
       "4  ODI # 3317  11-Jan-13  SriLanka           8  Australia  Melbourne  lost   \n",
       "\n",
       "   Score  Wickets  Overs   RPO  Target  Inns    Margin Result  \n",
       "0    250       10   48.3  5.15     NaN     1   85 runs    won  \n",
       "1    165       10   48.0  3.43   251.0     2   85 runs   lost  \n",
       "2    157       10   48.5  3.21   168.0     2   10 runs   lost  \n",
       "3    167       10   43.4  3.82     NaN     1   10 runs    won  \n",
       "4    198       10   40.0  4.95   306.0     2  107 runs   lost  "
      ]
     },
     "execution_count": 136,
     "metadata": {},
     "output_type": "execute_result"
    }
   ],
   "source": [
    "df.head()"
   ]
  },
  {
   "cell_type": "code",
   "execution_count": 137,
   "metadata": {},
   "outputs": [
    {
     "data": {
      "text/plain": [
       "(1046, 15)"
      ]
     },
     "execution_count": 137,
     "metadata": {},
     "output_type": "execute_result"
    }
   ],
   "source": [
    "df.shape"
   ]
  },
  {
   "cell_type": "code",
   "execution_count": 138,
   "metadata": {},
   "outputs": [
    {
     "name": "stdout",
     "output_type": "stream",
     "text": [
      "<class 'pandas.core.frame.DataFrame'>\n",
      "RangeIndex: 1046 entries, 0 to 1045\n",
      "Data columns (total 15 columns):\n",
      "Match_ID      1046 non-null object\n",
      "Start Date    1046 non-null object\n",
      "Country       1046 non-null object\n",
      "Country_ID    1046 non-null int64\n",
      "Opposition    1046 non-null object\n",
      "Ground        1046 non-null object\n",
      "Toss          1046 non-null object\n",
      "Score         1046 non-null int64\n",
      "Wickets       1046 non-null int64\n",
      "Overs         1046 non-null float64\n",
      "RPO           1046 non-null float64\n",
      "Target        523 non-null float64\n",
      "Inns          1046 non-null int64\n",
      "Margin        1046 non-null object\n",
      "Result        1046 non-null object\n",
      "dtypes: float64(3), int64(4), object(8)\n",
      "memory usage: 122.7+ KB\n"
     ]
    }
   ],
   "source": [
    "df.info()"
   ]
  },
  {
   "cell_type": "code",
   "execution_count": 234,
   "metadata": {},
   "outputs": [],
   "source": [
    "df_X = df.loc[:,['Country','Opposition','Ground','Toss','Inns','Score','Wickets','Overs','Target']]"
   ]
  },
  {
   "cell_type": "code",
   "execution_count": 235,
   "metadata": {},
   "outputs": [],
   "source": [
    "df_X.Target.fillna(999,inplace=True)"
   ]
  },
  {
   "cell_type": "code",
   "execution_count": 236,
   "metadata": {},
   "outputs": [],
   "source": [
    "df_y = df['Result']"
   ]
  },
  {
   "cell_type": "code",
   "execution_count": 237,
   "metadata": {},
   "outputs": [],
   "source": [
    "X = pd.get_dummies(df_X, drop_first=True)"
   ]
  },
  {
   "cell_type": "code",
   "execution_count": 238,
   "metadata": {},
   "outputs": [],
   "source": [
    "from sklearn.preprocessing import LabelEncoder\n",
    "labelencoder_y = LabelEncoder()\n",
    "y = labelencoder_y.fit_transform(df_y)"
   ]
  },
  {
   "cell_type": "code",
   "execution_count": 280,
   "metadata": {},
   "outputs": [
    {
     "data": {
      "text/plain": [
       "1"
      ]
     },
     "execution_count": 280,
     "metadata": {},
     "output_type": "execute_result"
    }
   ],
   "source": [
    "y[0]"
   ]
  },
  {
   "cell_type": "code",
   "execution_count": 239,
   "metadata": {},
   "outputs": [],
   "source": [
    "from sklearn.model_selection import train_test_split\n",
    "X_train, X_test, y_train, y_test = train_test_split(X, y, test_size = 0.20, random_state = 0)"
   ]
  },
  {
   "cell_type": "code",
   "execution_count": 243,
   "metadata": {},
   "outputs": [
    {
     "name": "stdout",
     "output_type": "stream",
     "text": [
      "Logistic Regression Accuracy Score = 83.80952380952381\n"
     ]
    },
    {
     "name": "stderr",
     "output_type": "stream",
     "text": [
      "/usr/local/anaconda3/lib/python3.7/site-packages/sklearn/linear_model/logistic.py:433: FutureWarning: Default solver will be changed to 'lbfgs' in 0.22. Specify a solver to silence this warning.\n",
      "  FutureWarning)\n"
     ]
    }
   ],
   "source": [
    "from sklearn.linear_model import LogisticRegression\n",
    "\n",
    "log_reg = LogisticRegression()\n",
    "log_reg.fit(X_train, y_train)\n",
    "#Testing Model\n",
    "print(\"Logistic Regression Accuracy Score =\", log_reg.score(X_test, y_test)*100)"
   ]
  },
  {
   "attachments": {},
   "cell_type": "markdown",
   "metadata": {},
   "source": [
    "# Scenario -1 :\n",
    "It’s a 2019 cricket world cup match at Lords NZ batting first have set a target of 243 against England. England 170 for the loss of 4 wickets in 40 overs have scored 242 for 8 in their 50 overs."
   ]
  },
  {
   "cell_type": "code",
   "execution_count": 313,
   "metadata": {},
   "outputs": [
    {
     "data": {
      "text/html": [
       "<div>\n",
       "<style scoped>\n",
       "    .dataframe tbody tr th:only-of-type {\n",
       "        vertical-align: middle;\n",
       "    }\n",
       "\n",
       "    .dataframe tbody tr th {\n",
       "        vertical-align: top;\n",
       "    }\n",
       "\n",
       "    .dataframe thead th {\n",
       "        text-align: right;\n",
       "    }\n",
       "</style>\n",
       "<table border=\"1\" class=\"dataframe\">\n",
       "  <thead>\n",
       "    <tr style=\"text-align: right;\">\n",
       "      <th></th>\n",
       "      <th>Country</th>\n",
       "      <th>Opposition</th>\n",
       "      <th>Ground</th>\n",
       "      <th>Toss</th>\n",
       "      <th>Inns</th>\n",
       "      <th>Score</th>\n",
       "      <th>Wickets</th>\n",
       "      <th>Overs</th>\n",
       "      <th>Target</th>\n",
       "    </tr>\n",
       "  </thead>\n",
       "  <tbody>\n",
       "    <tr>\n",
       "      <th>0</th>\n",
       "      <td>England</td>\n",
       "      <td>New Zealand</td>\n",
       "      <td>Lord's</td>\n",
       "      <td>lost</td>\n",
       "      <td>2</td>\n",
       "      <td>170</td>\n",
       "      <td>4</td>\n",
       "      <td>40</td>\n",
       "      <td>243</td>\n",
       "    </tr>\n",
       "  </tbody>\n",
       "</table>\n",
       "</div>"
      ],
      "text/plain": [
       "   Country   Opposition  Ground  Toss  Inns  Score  Wickets  Overs  Target\n",
       "0  England  New Zealand  Lord's  lost     2    170        4     40     243"
      ]
     },
     "execution_count": 313,
     "metadata": {},
     "output_type": "execute_result"
    }
   ],
   "source": [
    "test_df = pd.DataFrame([[\"England\",\"New Zealand\",\"Lord\\'s\",\"lost\",2,170,4,40,243]],\n",
    "             columns= ['Country','Opposition','Ground','Toss',\n",
    "                       'Inns','Score','Wickets','Overs','Target'])\n",
    "test_df"
   ]
  },
  {
   "cell_type": "code",
   "execution_count": 314,
   "metadata": {},
   "outputs": [],
   "source": [
    "df_X1=pd.concat([df_X,test_df], axis=0)"
   ]
  },
  {
   "cell_type": "code",
   "execution_count": 315,
   "metadata": {},
   "outputs": [],
   "source": [
    "X1 = pd.get_dummies(df_X1,drop_first=True)"
   ]
  },
  {
   "cell_type": "code",
   "execution_count": 316,
   "metadata": {},
   "outputs": [],
   "source": [
    "X11 = X1.iloc[-1:,]"
   ]
  },
  {
   "cell_type": "code",
   "execution_count": 317,
   "metadata": {},
   "outputs": [],
   "source": [
    "y_predict = log_reg.predict(X11)"
   ]
  },
  {
   "cell_type": "code",
   "execution_count": 318,
   "metadata": {
    "scrolled": true
   },
   "outputs": [
    {
     "data": {
      "text/html": [
       "<div>\n",
       "<style scoped>\n",
       "    .dataframe tbody tr th:only-of-type {\n",
       "        vertical-align: middle;\n",
       "    }\n",
       "\n",
       "    .dataframe tbody tr th {\n",
       "        vertical-align: top;\n",
       "    }\n",
       "\n",
       "    .dataframe thead th {\n",
       "        text-align: right;\n",
       "    }\n",
       "</style>\n",
       "<table border=\"1\" class=\"dataframe\">\n",
       "  <thead>\n",
       "    <tr style=\"text-align: right;\">\n",
       "      <th></th>\n",
       "      <th>Result</th>\n",
       "    </tr>\n",
       "  </thead>\n",
       "  <tbody>\n",
       "    <tr>\n",
       "      <th>0</th>\n",
       "      <td>win</td>\n",
       "    </tr>\n",
       "  </tbody>\n",
       "</table>\n",
       "</div>"
      ],
      "text/plain": [
       "  Result\n",
       "0    win"
      ]
     },
     "execution_count": 318,
     "metadata": {},
     "output_type": "execute_result"
    }
   ],
   "source": [
    "y_predict = pd.DataFrame(y_predict, columns=[\"Result\"]).replace({1:\"win\",0:\"loss\"})\n",
    "y_predict"
   ]
  },
  {
   "cell_type": "code",
   "execution_count": 319,
   "metadata": {
    "scrolled": true
   },
   "outputs": [
    {
     "data": {
      "text/html": [
       "<div>\n",
       "<style scoped>\n",
       "    .dataframe tbody tr th:only-of-type {\n",
       "        vertical-align: middle;\n",
       "    }\n",
       "\n",
       "    .dataframe tbody tr th {\n",
       "        vertical-align: top;\n",
       "    }\n",
       "\n",
       "    .dataframe thead th {\n",
       "        text-align: right;\n",
       "    }\n",
       "</style>\n",
       "<table border=\"1\" class=\"dataframe\">\n",
       "  <thead>\n",
       "    <tr style=\"text-align: right;\">\n",
       "      <th></th>\n",
       "      <th>loss%</th>\n",
       "      <th>win%</th>\n",
       "    </tr>\n",
       "  </thead>\n",
       "  <tbody>\n",
       "    <tr>\n",
       "      <th>0</th>\n",
       "      <td>7.98578</td>\n",
       "      <td>92.01422</td>\n",
       "    </tr>\n",
       "  </tbody>\n",
       "</table>\n",
       "</div>"
      ],
      "text/plain": [
       "     loss%      win%\n",
       "0  7.98578  92.01422"
      ]
     },
     "execution_count": 319,
     "metadata": {},
     "output_type": "execute_result"
    }
   ],
   "source": [
    "y_prob = (log_reg.predict_proba(X11))*100\n",
    "y_prob = pd.DataFrame(y_prob,columns=[\"loss%\",\"win%\"])\n",
    "y_prob"
   ]
  },
  {
   "cell_type": "code",
   "execution_count": 320,
   "metadata": {
    "scrolled": false
   },
   "outputs": [
    {
     "data": {
      "text/html": [
       "<div>\n",
       "<style scoped>\n",
       "    .dataframe tbody tr th:only-of-type {\n",
       "        vertical-align: middle;\n",
       "    }\n",
       "\n",
       "    .dataframe tbody tr th {\n",
       "        vertical-align: top;\n",
       "    }\n",
       "\n",
       "    .dataframe thead th {\n",
       "        text-align: right;\n",
       "    }\n",
       "</style>\n",
       "<table border=\"1\" class=\"dataframe\">\n",
       "  <thead>\n",
       "    <tr style=\"text-align: right;\">\n",
       "      <th></th>\n",
       "      <th>Country</th>\n",
       "      <th>Opposition</th>\n",
       "      <th>Ground</th>\n",
       "      <th>Toss</th>\n",
       "      <th>Inns</th>\n",
       "      <th>Score</th>\n",
       "      <th>Wickets</th>\n",
       "      <th>Overs</th>\n",
       "      <th>Target</th>\n",
       "      <th>Result</th>\n",
       "      <th>loss%</th>\n",
       "      <th>win%</th>\n",
       "    </tr>\n",
       "  </thead>\n",
       "  <tbody>\n",
       "    <tr>\n",
       "      <th>0</th>\n",
       "      <td>England</td>\n",
       "      <td>New Zealand</td>\n",
       "      <td>Lord's</td>\n",
       "      <td>lost</td>\n",
       "      <td>2</td>\n",
       "      <td>170</td>\n",
       "      <td>4</td>\n",
       "      <td>40</td>\n",
       "      <td>243</td>\n",
       "      <td>win</td>\n",
       "      <td>7.98578</td>\n",
       "      <td>92.01422</td>\n",
       "    </tr>\n",
       "  </tbody>\n",
       "</table>\n",
       "</div>"
      ],
      "text/plain": [
       "   Country   Opposition  Ground  Toss  Inns  Score  Wickets  Overs  Target  \\\n",
       "0  England  New Zealand  Lord's  lost     2    170        4     40     243   \n",
       "\n",
       "  Result    loss%      win%  \n",
       "0    win  7.98578  92.01422  "
      ]
     },
     "execution_count": 320,
     "metadata": {},
     "output_type": "execute_result"
    }
   ],
   "source": [
    "pd.concat([test_df,y_predict,y_prob],axis=1)"
   ]
  },
  {
   "cell_type": "markdown",
   "metadata": {},
   "source": [
    "#At the end of 40 overs england has 92% chance of winning the game"
   ]
  },
  {
   "attachments": {},
   "cell_type": "markdown",
   "metadata": {},
   "source": [
    "# Scenario -2 \n",
    "It’s a 2019 world cup semi final match between India vs new-Zealand. What are the chances of India winning the match:\n",
    "If India had won the toss and batted first and,\n",
    "Scored 250 for the loss of 6 wickets!"
   ]
  },
  {
   "cell_type": "code",
   "execution_count": 306,
   "metadata": {},
   "outputs": [
    {
     "data": {
      "text/html": [
       "<div>\n",
       "<style scoped>\n",
       "    .dataframe tbody tr th:only-of-type {\n",
       "        vertical-align: middle;\n",
       "    }\n",
       "\n",
       "    .dataframe tbody tr th {\n",
       "        vertical-align: top;\n",
       "    }\n",
       "\n",
       "    .dataframe thead th {\n",
       "        text-align: right;\n",
       "    }\n",
       "</style>\n",
       "<table border=\"1\" class=\"dataframe\">\n",
       "  <thead>\n",
       "    <tr style=\"text-align: right;\">\n",
       "      <th></th>\n",
       "      <th>Country</th>\n",
       "      <th>Opposition</th>\n",
       "      <th>Ground</th>\n",
       "      <th>Toss</th>\n",
       "      <th>Inns</th>\n",
       "      <th>Score</th>\n",
       "      <th>Wickets</th>\n",
       "      <th>Overs</th>\n",
       "      <th>Target</th>\n",
       "    </tr>\n",
       "  </thead>\n",
       "  <tbody>\n",
       "    <tr>\n",
       "      <th>0</th>\n",
       "      <td>India</td>\n",
       "      <td>New Zealand</td>\n",
       "      <td>Manchester</td>\n",
       "      <td>won</td>\n",
       "      <td>1</td>\n",
       "      <td>250</td>\n",
       "      <td>6</td>\n",
       "      <td>50</td>\n",
       "      <td>0.0</td>\n",
       "    </tr>\n",
       "  </tbody>\n",
       "</table>\n",
       "</div>"
      ],
      "text/plain": [
       "  Country   Opposition      Ground Toss  Inns  Score  Wickets  Overs  Target\n",
       "0   India  New Zealand  Manchester  won     1    250        6     50     0.0"
      ]
     },
     "execution_count": 306,
     "metadata": {},
     "output_type": "execute_result"
    }
   ],
   "source": [
    "test_df = pd.DataFrame([[\"India\",\"New Zealand\",\"Manchester\",\"won\",1,250,6,50,0.0]],\n",
    "             columns= ['Country','Opposition','Ground','Toss',\n",
    "                       'Inns','Score','Wickets','Overs','Target'])\n",
    "test_df"
   ]
  },
  {
   "cell_type": "code",
   "execution_count": 307,
   "metadata": {},
   "outputs": [],
   "source": [
    "df_X1=pd.concat([df_X,test_df], axis=0)"
   ]
  },
  {
   "cell_type": "code",
   "execution_count": 308,
   "metadata": {},
   "outputs": [],
   "source": [
    "X1 = pd.get_dummies(df_X1,drop_first=True)\n",
    "X11 = X1.iloc[-1:,]"
   ]
  },
  {
   "cell_type": "code",
   "execution_count": 309,
   "metadata": {},
   "outputs": [],
   "source": [
    "y_predict = log_reg.predict(X11)"
   ]
  },
  {
   "cell_type": "code",
   "execution_count": 310,
   "metadata": {
    "scrolled": true
   },
   "outputs": [
    {
     "data": {
      "text/html": [
       "<div>\n",
       "<style scoped>\n",
       "    .dataframe tbody tr th:only-of-type {\n",
       "        vertical-align: middle;\n",
       "    }\n",
       "\n",
       "    .dataframe tbody tr th {\n",
       "        vertical-align: top;\n",
       "    }\n",
       "\n",
       "    .dataframe thead th {\n",
       "        text-align: right;\n",
       "    }\n",
       "</style>\n",
       "<table border=\"1\" class=\"dataframe\">\n",
       "  <thead>\n",
       "    <tr style=\"text-align: right;\">\n",
       "      <th></th>\n",
       "      <th>Result</th>\n",
       "    </tr>\n",
       "  </thead>\n",
       "  <tbody>\n",
       "    <tr>\n",
       "      <th>0</th>\n",
       "      <td>win</td>\n",
       "    </tr>\n",
       "  </tbody>\n",
       "</table>\n",
       "</div>"
      ],
      "text/plain": [
       "  Result\n",
       "0    win"
      ]
     },
     "execution_count": 310,
     "metadata": {},
     "output_type": "execute_result"
    }
   ],
   "source": [
    "y_predict = pd.DataFrame(y_predict, columns=[\"Result\"]).replace({1:\"win\",0:\"loss\"})\n",
    "y_predict"
   ]
  },
  {
   "cell_type": "code",
   "execution_count": 311,
   "metadata": {
    "scrolled": true
   },
   "outputs": [
    {
     "data": {
      "text/html": [
       "<div>\n",
       "<style scoped>\n",
       "    .dataframe tbody tr th:only-of-type {\n",
       "        vertical-align: middle;\n",
       "    }\n",
       "\n",
       "    .dataframe tbody tr th {\n",
       "        vertical-align: top;\n",
       "    }\n",
       "\n",
       "    .dataframe thead th {\n",
       "        text-align: right;\n",
       "    }\n",
       "</style>\n",
       "<table border=\"1\" class=\"dataframe\">\n",
       "  <thead>\n",
       "    <tr style=\"text-align: right;\">\n",
       "      <th></th>\n",
       "      <th>loss%</th>\n",
       "      <th>win%</th>\n",
       "    </tr>\n",
       "  </thead>\n",
       "  <tbody>\n",
       "    <tr>\n",
       "      <th>0</th>\n",
       "      <td>27.010406</td>\n",
       "      <td>72.989594</td>\n",
       "    </tr>\n",
       "  </tbody>\n",
       "</table>\n",
       "</div>"
      ],
      "text/plain": [
       "       loss%       win%\n",
       "0  27.010406  72.989594"
      ]
     },
     "execution_count": 311,
     "metadata": {},
     "output_type": "execute_result"
    }
   ],
   "source": [
    "y_prob = (log_reg.predict_proba(X11))*100\n",
    "y_prob = pd.DataFrame(y_prob,columns=[\"loss%\",\"win%\"])\n",
    "y_prob"
   ]
  },
  {
   "cell_type": "code",
   "execution_count": 312,
   "metadata": {
    "scrolled": true
   },
   "outputs": [
    {
     "data": {
      "text/html": [
       "<div>\n",
       "<style scoped>\n",
       "    .dataframe tbody tr th:only-of-type {\n",
       "        vertical-align: middle;\n",
       "    }\n",
       "\n",
       "    .dataframe tbody tr th {\n",
       "        vertical-align: top;\n",
       "    }\n",
       "\n",
       "    .dataframe thead th {\n",
       "        text-align: right;\n",
       "    }\n",
       "</style>\n",
       "<table border=\"1\" class=\"dataframe\">\n",
       "  <thead>\n",
       "    <tr style=\"text-align: right;\">\n",
       "      <th></th>\n",
       "      <th>Country</th>\n",
       "      <th>Opposition</th>\n",
       "      <th>Ground</th>\n",
       "      <th>Toss</th>\n",
       "      <th>Inns</th>\n",
       "      <th>Score</th>\n",
       "      <th>Wickets</th>\n",
       "      <th>Overs</th>\n",
       "      <th>Target</th>\n",
       "      <th>Result</th>\n",
       "      <th>loss%</th>\n",
       "      <th>win%</th>\n",
       "    </tr>\n",
       "  </thead>\n",
       "  <tbody>\n",
       "    <tr>\n",
       "      <th>0</th>\n",
       "      <td>India</td>\n",
       "      <td>New Zealand</td>\n",
       "      <td>Manchester</td>\n",
       "      <td>won</td>\n",
       "      <td>1</td>\n",
       "      <td>250</td>\n",
       "      <td>6</td>\n",
       "      <td>50</td>\n",
       "      <td>0.0</td>\n",
       "      <td>win</td>\n",
       "      <td>27.010406</td>\n",
       "      <td>72.989594</td>\n",
       "    </tr>\n",
       "  </tbody>\n",
       "</table>\n",
       "</div>"
      ],
      "text/plain": [
       "  Country   Opposition      Ground Toss  Inns  Score  Wickets  Overs  Target  \\\n",
       "0   India  New Zealand  Manchester  won     1    250        6     50     0.0   \n",
       "\n",
       "  Result      loss%       win%  \n",
       "0    win  27.010406  72.989594  "
      ]
     },
     "execution_count": 312,
     "metadata": {},
     "output_type": "execute_result"
    }
   ],
   "source": [
    "pd.concat([test_df,y_predict,y_prob],axis=1)"
   ]
  },
  {
   "cell_type": "markdown",
   "metadata": {},
   "source": [
    "If had batted first and scored 250 for 6. Then India had an advantage of winning the match"
   ]
  },
  {
   "cell_type": "markdown",
   "metadata": {},
   "source": [
    "# Scenario:3 NZ Won the toss and batting First Against England at Lords, scored 242 for 8 at the end of 50 overs "
   ]
  },
  {
   "cell_type": "code",
   "execution_count": 182,
   "metadata": {},
   "outputs": [
    {
     "data": {
      "text/html": [
       "<div>\n",
       "<style scoped>\n",
       "    .dataframe tbody tr th:only-of-type {\n",
       "        vertical-align: middle;\n",
       "    }\n",
       "\n",
       "    .dataframe tbody tr th {\n",
       "        vertical-align: top;\n",
       "    }\n",
       "\n",
       "    .dataframe thead th {\n",
       "        text-align: right;\n",
       "    }\n",
       "</style>\n",
       "<table border=\"1\" class=\"dataframe\">\n",
       "  <thead>\n",
       "    <tr style=\"text-align: right;\">\n",
       "      <th></th>\n",
       "      <th>Country</th>\n",
       "      <th>Opposition</th>\n",
       "      <th>Ground</th>\n",
       "      <th>Toss</th>\n",
       "      <th>Inns</th>\n",
       "      <th>Score</th>\n",
       "      <th>Wickets</th>\n",
       "      <th>Overs</th>\n",
       "      <th>Target</th>\n",
       "    </tr>\n",
       "  </thead>\n",
       "  <tbody>\n",
       "    <tr>\n",
       "      <th>0</th>\n",
       "      <td>Newzealad</td>\n",
       "      <td>England</td>\n",
       "      <td>Lord's</td>\n",
       "      <td>won</td>\n",
       "      <td>1</td>\n",
       "      <td>242</td>\n",
       "      <td>8</td>\n",
       "      <td>50.0</td>\n",
       "      <td>0.0</td>\n",
       "    </tr>\n",
       "  </tbody>\n",
       "</table>\n",
       "</div>"
      ],
      "text/plain": [
       "     Country Opposition  Ground Toss  Inns  Score  Wickets  Overs  Target\n",
       "0  Newzealad    England  Lord's  won     1    242        8   50.0     0.0"
      ]
     },
     "execution_count": 182,
     "metadata": {},
     "output_type": "execute_result"
    }
   ],
   "source": [
    "test_df = pd.DataFrame([[\"Newzealad\",\"England\",\"Lord\\'s\",\"won\",1,242,8,50.0,0.0]],\n",
    "             columns= ['Country','Opposition','Ground','Toss',\n",
    "                       'Inns','Score','Wickets','Overs','Target'])\n",
    "test_df"
   ]
  },
  {
   "cell_type": "code",
   "execution_count": 183,
   "metadata": {},
   "outputs": [],
   "source": [
    "df_X1=pd.concat([df_X,test_df], axis=0)\n",
    "X1 = pd.get_dummies(df_X1,drop_first=True)\n",
    "X11 = X1.iloc[-1:,]"
   ]
  },
  {
   "cell_type": "code",
   "execution_count": 184,
   "metadata": {},
   "outputs": [],
   "source": [
    "y_predict = log_reg.predict(X11)"
   ]
  },
  {
   "cell_type": "code",
   "execution_count": 185,
   "metadata": {
    "scrolled": true
   },
   "outputs": [
    {
     "data": {
      "text/html": [
       "<div>\n",
       "<style scoped>\n",
       "    .dataframe tbody tr th:only-of-type {\n",
       "        vertical-align: middle;\n",
       "    }\n",
       "\n",
       "    .dataframe tbody tr th {\n",
       "        vertical-align: top;\n",
       "    }\n",
       "\n",
       "    .dataframe thead th {\n",
       "        text-align: right;\n",
       "    }\n",
       "</style>\n",
       "<table border=\"1\" class=\"dataframe\">\n",
       "  <thead>\n",
       "    <tr style=\"text-align: right;\">\n",
       "      <th></th>\n",
       "      <th>Result</th>\n",
       "    </tr>\n",
       "  </thead>\n",
       "  <tbody>\n",
       "    <tr>\n",
       "      <th>0</th>\n",
       "      <td>0</td>\n",
       "    </tr>\n",
       "  </tbody>\n",
       "</table>\n",
       "</div>"
      ],
      "text/plain": [
       "   Result\n",
       "0       0"
      ]
     },
     "execution_count": 185,
     "metadata": {},
     "output_type": "execute_result"
    }
   ],
   "source": [
    "y_predict = pd.DataFrame(y_predict, columns=[\"Result\"])\n",
    "y_predict"
   ]
  },
  {
   "cell_type": "code",
   "execution_count": 186,
   "metadata": {
    "scrolled": true
   },
   "outputs": [
    {
     "data": {
      "text/html": [
       "<div>\n",
       "<style scoped>\n",
       "    .dataframe tbody tr th:only-of-type {\n",
       "        vertical-align: middle;\n",
       "    }\n",
       "\n",
       "    .dataframe tbody tr th {\n",
       "        vertical-align: top;\n",
       "    }\n",
       "\n",
       "    .dataframe thead th {\n",
       "        text-align: right;\n",
       "    }\n",
       "</style>\n",
       "<table border=\"1\" class=\"dataframe\">\n",
       "  <thead>\n",
       "    <tr style=\"text-align: right;\">\n",
       "      <th></th>\n",
       "      <th>loss%</th>\n",
       "      <th>win%</th>\n",
       "    </tr>\n",
       "  </thead>\n",
       "  <tbody>\n",
       "    <tr>\n",
       "      <th>0</th>\n",
       "      <td>61.671149</td>\n",
       "      <td>38.328851</td>\n",
       "    </tr>\n",
       "  </tbody>\n",
       "</table>\n",
       "</div>"
      ],
      "text/plain": [
       "       loss%       win%\n",
       "0  61.671149  38.328851"
      ]
     },
     "execution_count": 186,
     "metadata": {},
     "output_type": "execute_result"
    }
   ],
   "source": [
    "y_prob = (log_reg.predict_proba(X11))*100\n",
    "y_prob = pd.DataFrame(y_prob,columns=[\"loss%\",\"win%\"])\n",
    "y_prob"
   ]
  },
  {
   "cell_type": "code",
   "execution_count": 187,
   "metadata": {
    "scrolled": false
   },
   "outputs": [
    {
     "data": {
      "text/html": [
       "<div>\n",
       "<style scoped>\n",
       "    .dataframe tbody tr th:only-of-type {\n",
       "        vertical-align: middle;\n",
       "    }\n",
       "\n",
       "    .dataframe tbody tr th {\n",
       "        vertical-align: top;\n",
       "    }\n",
       "\n",
       "    .dataframe thead th {\n",
       "        text-align: right;\n",
       "    }\n",
       "</style>\n",
       "<table border=\"1\" class=\"dataframe\">\n",
       "  <thead>\n",
       "    <tr style=\"text-align: right;\">\n",
       "      <th></th>\n",
       "      <th>Country</th>\n",
       "      <th>Opposition</th>\n",
       "      <th>Ground</th>\n",
       "      <th>Toss</th>\n",
       "      <th>Inns</th>\n",
       "      <th>Score</th>\n",
       "      <th>Wickets</th>\n",
       "      <th>Overs</th>\n",
       "      <th>Target</th>\n",
       "      <th>Result</th>\n",
       "      <th>loss%</th>\n",
       "      <th>win%</th>\n",
       "    </tr>\n",
       "  </thead>\n",
       "  <tbody>\n",
       "    <tr>\n",
       "      <th>0</th>\n",
       "      <td>Newzealad</td>\n",
       "      <td>England</td>\n",
       "      <td>Lord's</td>\n",
       "      <td>won</td>\n",
       "      <td>1</td>\n",
       "      <td>242</td>\n",
       "      <td>8</td>\n",
       "      <td>50.0</td>\n",
       "      <td>0.0</td>\n",
       "      <td>0</td>\n",
       "      <td>61.671149</td>\n",
       "      <td>38.328851</td>\n",
       "    </tr>\n",
       "  </tbody>\n",
       "</table>\n",
       "</div>"
      ],
      "text/plain": [
       "     Country Opposition  Ground Toss  Inns  Score  Wickets  Overs  Target  \\\n",
       "0  Newzealad    England  Lord's  won     1    242        8   50.0     0.0   \n",
       "\n",
       "   Result      loss%       win%  \n",
       "0       0  61.671149  38.328851  "
      ]
     },
     "execution_count": 187,
     "metadata": {},
     "output_type": "execute_result"
    }
   ],
   "source": [
    "pd.concat([test_df,y_predict,y_prob],axis=1)"
   ]
  },
  {
   "cell_type": "markdown",
   "metadata": {},
   "source": [
    "#At the end of the new zealand innings, they have 35% chance of winning"
   ]
  }
 ],
 "metadata": {
  "kernelspec": {
   "display_name": "Python 3",
   "language": "python",
   "name": "python3"
  },
  "language_info": {
   "codemirror_mode": {
    "name": "ipython",
    "version": 3
   },
   "file_extension": ".py",
   "mimetype": "text/x-python",
   "name": "python",
   "nbconvert_exporter": "python",
   "pygments_lexer": "ipython3",
   "version": "3.7.1"
  }
 },
 "nbformat": 4,
 "nbformat_minor": 2
}
